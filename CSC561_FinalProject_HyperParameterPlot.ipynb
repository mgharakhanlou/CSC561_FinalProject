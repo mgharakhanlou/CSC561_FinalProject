{
  "nbformat": 4,
  "nbformat_minor": 0,
  "metadata": {
    "colab": {
      "provenance": [],
      "gpuType": "T4"
    },
    "kernelspec": {
      "name": "python3",
      "display_name": "Python 3"
    },
    "language_info": {
      "name": "python"
    },
    "accelerator": "GPU",
    "gpuClass": "standard"
  },
  "cells": [
    {
      "cell_type": "code",
      "execution_count": 1,
      "metadata": {
        "id": "voIeDg_5o-NN"
      },
      "outputs": [],
      "source": [
        "# importing frequently used packages\n",
        "import pandas as pd\n",
        "import numpy as np\n",
        "import matplotlib.pyplot as plt\n",
        "\n",
        "# importing pytorch related packages\n",
        "import torch\n",
        "import torch.nn as nn\n",
        "import torch.optim as optim\n",
        "import torch.nn.functional as F\n",
        "from torch.utils.data import Dataset, DataLoader, random_split\n",
        "from torchsummary import summary\n",
        "import torchvision.transforms as transforms"
      ]
    },
    {
      "cell_type": "code",
      "source": [
        "# check if CUDA is available and print GPU info\n",
        "use_cuda = torch.cuda.is_available()\n",
        "print(use_cuda)\n",
        "print(torch.cuda.device_count())\n",
        "print(torch.cuda.current_device())\n",
        "print(torch.cuda.get_device_name(0))\n",
        "\n",
        "# set device to use GPU if available, otherwise use CPU\n",
        "device = torch.device('cuda:0' if use_cuda else 'cpu')"
      ],
      "metadata": {
        "colab": {
          "base_uri": "https://localhost:8080/"
        },
        "id": "XsnR5s3SqChB",
        "outputId": "2ae51ca8-cd54-4518-f0fa-2d519ca88cb2"
      },
      "execution_count": 2,
      "outputs": [
        {
          "output_type": "stream",
          "name": "stdout",
          "text": [
            "True\n",
            "1\n",
            "0\n",
            "Tesla T4\n"
          ]
        }
      ]
    },
    {
      "cell_type": "code",
      "source": [
        "# Define the custom dataset\n",
        "class MyDataset(Dataset):\n",
        "    def __init__(self, csv_file):\n",
        "        self.data = pd.read_csv(csv_file)\n",
        "        \n",
        "    def __len__(self):\n",
        "        return len(self.data)\n",
        "    \n",
        "    def __getitem__(self, index):\n",
        "        x = torch.tensor(self.data.iloc[index, :-1].values, dtype=torch.float32)\n",
        "        y = torch.tensor(self.data.iloc[index, -1], dtype=torch.float32)\n",
        "        return x, y"
      ],
      "metadata": {
        "id": "_F0LeRNEpShM"
      },
      "execution_count": 3,
      "outputs": []
    },
    {
      "cell_type": "code",
      "source": [
        "# Load the dataset\n",
        "dataset = MyDataset('/content/drive/MyDrive/Colab Notebooks/Data.csv')\n",
        "\n",
        "# Split the dataset into training, validation, and test sets\n",
        "train_size = int(0.7 * len(dataset))\n",
        "val_size = int(0.15 * len(dataset))\n",
        "test_size = len(dataset) - train_size - val_size\n",
        "\n",
        "train_data, val_data, test_data = random_split(dataset, [train_size, val_size, test_size], generator=torch.Generator().manual_seed(42))\n",
        "\n",
        "# Create data loaders for training, validation, and test sets\n",
        "train_loader = DataLoader(train_data, batch_size=16, shuffle=True)\n",
        "val_loader = DataLoader(val_data, batch_size=16, shuffle=False)\n",
        "test_loader = DataLoader(test_data, batch_size=16, shuffle=False)"
      ],
      "metadata": {
        "id": "F93XqV7rpTMF"
      },
      "execution_count": 4,
      "outputs": []
    },
    {
      "cell_type": "code",
      "source": [
        "# Define the model class\n",
        "class MyModule(nn.Module):\n",
        "    def __init__(self, layer_sizes=[6, 10, 1], activations=[nn.LeakyReLU()], dropouts=[0.5]):\n",
        "        super(MyModule, self).__init__()\n",
        "\n",
        "        layers = []\n",
        "        for i in range(len(layer_sizes) - 1):\n",
        "            layers.append(nn.Linear(layer_sizes[i], layer_sizes[i+1]))\n",
        "            if i < len(activations):\n",
        "                layers.append(activations[i])\n",
        "            if i < len(dropouts):\n",
        "                layers.append(nn.Dropout(p=dropouts[i]))\n",
        "\n",
        "        self.module = nn.Sequential(*layers)\n",
        "\n",
        "    def forward(self, X):\n",
        "        X = self.module(X)\n",
        "        return X\n",
        "\n",
        "\n",
        "# Define the ranges for the hyperparameters\n",
        "#layer_sizes = [[6, 10, 1], [6, 20, 1], [6, 30, 1]]\n",
        "#activations = [[nn.ReLU()], [nn.Sigmoid()]]\n",
        "#dropouts = [[0.1], [0.2], [0.3]]\n",
        "\n",
        "layer_sizes = [[6, 10, 1]]\n",
        "activations = [[nn.Sigmoid()]]\n",
        "dropouts = [[0.2]]\n",
        "learning_rates = [10 ** x for x in np.random.uniform(-5, -2.5, 20)]\n",
        "\n",
        "\n",
        "# Create lists to store the loss values for each hyperparameter combination\n",
        "layer_sizes_loss = []\n",
        "activations_loss = []\n",
        "dropouts_loss = []\n",
        "lr_loss = []\n",
        "\n",
        "\n",
        "# Loop over the hyperparameter ranges and train the model for each combination\n",
        "for lr in learning_rates:\n",
        "    for ls in layer_sizes:\n",
        "        for act in activations:\n",
        "            for dp in dropouts:\n",
        "\n",
        "                # Instantiate the model\n",
        "                model = MyModule(layer_sizes=ls, activations=act, dropouts=dp).to(device)\n",
        "\n",
        "                # Define the loss function and optimizer\n",
        "                criterion = nn.MSELoss()\n",
        "                optimizer = torch.optim.Adam(model.parameters(), lr=lr)\n",
        "\n",
        "                # Train the model for 50 epochs\n",
        "                for epoch in range(50):\n",
        "                    running_loss = 0.0\n",
        "                    for nn_x, nn_y in train_loader:\n",
        "                        nn_x, nn_y = nn_x.to(device), nn_y.to(device)\n",
        "                        pred = model(nn_x)\n",
        "\n",
        "                        loss = criterion(pred, nn_y)\n",
        "                        loss.backward()\n",
        "\n",
        "                        optimizer.step()\n",
        "                        running_loss += loss.item()\n",
        "\n",
        "                    #final_loss = running_loss / len(train_loader)\n",
        "                    #print('Epoch %d loss: %.3f' % (epoch + 1, running_loss / len(train_loader)))\n",
        "\n",
        "                # Print the hyperparameter values and the final loss value\n",
        "                #print(f\"Layer sizes: {ls}, Activations: {act}, Dropouts: {dp}, Loss: {final_loss}\")            \n",
        "\n",
        "                with torch.no_grad():\n",
        "                    val_loss = 0.0\n",
        "                    for nn_x, nn_y in val_data:\n",
        "                        nn_x, nn_y = nn_x.to(device), nn_y.to(device)\n",
        "                        outputs = model(nn_x)\n",
        "                        val_loss += criterion(outputs, nn_y).item()\n",
        "                        val_loss /= len(val_data)\n",
        "                print(f'Mean squared error on the validation set: {val_loss:.3f}')\n",
        "\n",
        "                # Store the loss value for the current hyperparameter combination\n",
        "                layer_sizes_loss.append((ls[1], val_loss))\n",
        "                activations_loss.append((str(act[0]), val_loss))\n",
        "                dropouts_loss.append((dp[0], val_loss))\n",
        "                lr_loss.append((lr, val_loss))"
      ],
      "metadata": {
        "colab": {
          "base_uri": "https://localhost:8080/"
        },
        "id": "qQLueuLZpGLB",
        "outputId": "761848c7-d97c-41b1-9e0c-402b13a1f0f8"
      },
      "execution_count": 6,
      "outputs": [
        {
          "output_type": "stream",
          "name": "stderr",
          "text": [
            "/usr/local/lib/python3.10/dist-packages/torch/nn/modules/loss.py:536: UserWarning: Using a target size (torch.Size([])) that is different to the input size (torch.Size([1])). This will likely lead to incorrect results due to broadcasting. Please ensure they have the same size.\n",
            "  return F.mse_loss(input, target, reduction=self.reduction)\n"
          ]
        },
        {
          "output_type": "stream",
          "name": "stdout",
          "text": [
            "Mean squared error on the validation set: 0.019\n",
            "Mean squared error on the validation set: 0.000\n",
            "Mean squared error on the validation set: 0.016\n",
            "Mean squared error on the validation set: 0.000\n",
            "Mean squared error on the validation set: 0.001\n",
            "Mean squared error on the validation set: 0.000\n",
            "Mean squared error on the validation set: 0.000\n",
            "Mean squared error on the validation set: 0.000\n",
            "Mean squared error on the validation set: 0.001\n",
            "Mean squared error on the validation set: 0.002\n",
            "Mean squared error on the validation set: 0.003\n",
            "Mean squared error on the validation set: 0.001\n",
            "Mean squared error on the validation set: 0.001\n",
            "Mean squared error on the validation set: 0.001\n",
            "Mean squared error on the validation set: 0.000\n",
            "Mean squared error on the validation set: 0.003\n",
            "Mean squared error on the validation set: 0.006\n",
            "Mean squared error on the validation set: 0.000\n",
            "Mean squared error on the validation set: 0.000\n",
            "Mean squared error on the validation set: 0.000\n"
          ]
        }
      ]
    },
    {
      "cell_type": "code",
      "source": [
        "# Extract the learning rates and validation MSEs\n",
        "learning_rates = [lr[0] for lr in lr_loss]\n",
        "validation_mses = [lr[1] for lr in lr_loss]\n",
        "\n",
        "# Find the index of the best learning rate and its corresponding validation MSE\n",
        "best_idx = validation_mses.index(min(validation_mses))\n",
        "best_lr = learning_rates[best_idx]\n",
        "best_mse = validation_mses[best_idx]\n",
        "\n",
        "# Create the scatter plot\n",
        "plt.scatter(learning_rates, validation_mses)\n",
        "plt.xscale('log')\n",
        "plt.xlabel('Learning Rate (log scale)')\n",
        "plt.ylabel('Validation MSE')\n",
        "plt.title('Validation MSE vs Learning Rate')\n",
        "\n",
        "# Add the label for the best learning rate\n",
        "plt.annotate(f'Best LR: {best_lr:.2E}\\nMSE: {best_mse:.2E}', \n",
        "             xy=(best_lr, best_mse), xytext=(0.005, 0.0005),\n",
        "             arrowprops=dict(facecolor='black', arrowstyle='->'))\n",
        "\n",
        "plt.show()"
      ],
      "metadata": {
        "colab": {
          "base_uri": "https://localhost:8080/",
          "height": 476
        },
        "id": "YVWDfahZp-1a",
        "outputId": "2f6f67d9-df3e-4d1d-bf19-e11a972dee3a"
      },
      "execution_count": 7,
      "outputs": [
        {
          "output_type": "display_data",
          "data": {
            "text/plain": [
              "<Figure size 640x480 with 1 Axes>"
            ],
            "image/png": "[encoded data removed]"
          },
          "metadata": {}
        }
      ]
    },
    {
      "cell_type": "code",
      "source": [],
      "metadata": {
        "id": "oHAA7YsWqr-G"
      },
      "execution_count": null,
      "outputs": []
    }
  ]
}