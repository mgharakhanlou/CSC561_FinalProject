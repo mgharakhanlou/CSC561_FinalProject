{
  "cells": [
    {
      "cell_type": "markdown",
      "metadata": {
        "id": "6mRZLgOXicwp"
      },
      "source": [
        "In this code we are going to use some hyperparameter tuning techniques "
      ]
    },
    {
      "cell_type": "code",
      "execution_count": null,
      "metadata": {
        "colab": {
          "base_uri": "https://localhost:8080/"
        },
        "id": "IJ37ldlshjBq",
        "outputId": "5cb49807-8a8e-4603-b7f1-dbae816a4666"
      },
      "outputs": [
        {
          "name": "stdout",
          "output_type": "stream",
          "text": [
            "Drive already mounted at /content/gdrive; to attempt to forcibly remount, call drive.mount(\"/content/gdrive\", force_remount=True).\n"
          ]
        }
      ],
      "source": [
        "from google.colab import drive\n",
        "drive.mount('/content/gdrive')\n",
        "\n",
        "import sys\n",
        "sys.path.append('/content/gdrive/My Drive/Colab Notebooks')"
      ]
    },
    {
      "cell_type": "code",
      "execution_count": 1,
      "metadata": {
        "colab": {
          "base_uri": "https://localhost:8080/"
        },
        "id": "yEeeAOKS6-Wn",
        "outputId": "1063450c-603b-44e9-e941-2024cbf61abc"
      },
      "outputs": [
        {
          "output_type": "stream",
          "name": "stdout",
          "text": [
            "Looking in indexes: https://pypi.org/simple, https://us-python.pkg.dev/colab-wheels/public/simple/\n",
            "Collecting skorch\n",
            "  Downloading skorch-0.12.1-py3-none-any.whl (193 kB)\n",
            "\u001b[2K     \u001b[90m━━━━━━━━━━━━━━━━━━━━━━━━━━━━━━━━━━━━━━━\u001b[0m \u001b[32m193.7/193.7 kB\u001b[0m \u001b[31m4.8 MB/s\u001b[0m eta \u001b[36m0:00:00\u001b[0m\n",
            "\u001b[?25hRequirement already satisfied: numpy>=1.13.3 in /usr/local/lib/python3.10/dist-packages (from skorch) (1.22.4)\n",
            "Requirement already satisfied: scikit-learn>=0.22.0 in /usr/local/lib/python3.10/dist-packages (from skorch) (1.2.2)\n",
            "Requirement already satisfied: scipy>=1.1.0 in /usr/local/lib/python3.10/dist-packages (from skorch) (1.10.1)\n",
            "Requirement already satisfied: tabulate>=0.7.7 in /usr/local/lib/python3.10/dist-packages (from skorch) (0.8.10)\n",
            "Requirement already satisfied: tqdm>=4.14.0 in /usr/local/lib/python3.10/dist-packages (from skorch) (4.65.0)\n",
            "Requirement already satisfied: joblib>=1.1.1 in /usr/local/lib/python3.10/dist-packages (from scikit-learn>=0.22.0->skorch) (1.2.0)\n",
            "Requirement already satisfied: threadpoolctl>=2.0.0 in /usr/local/lib/python3.10/dist-packages (from scikit-learn>=0.22.0->skorch) (3.1.0)\n",
            "Installing collected packages: skorch\n",
            "Successfully installed skorch-0.12.1\n"
          ]
        }
      ],
      "source": [
        "pip install skorch"
      ]
    },
    {
      "cell_type": "code",
      "execution_count": 2,
      "metadata": {
        "id": "eNRWm3DqJmmL"
      },
      "outputs": [],
      "source": [
        "# importing frequently used packages\n",
        "import pandas as pd\n",
        "import numpy as np\n",
        "import matplotlib.pyplot as plt\n",
        "\n",
        "# importing pytorch related packages\n",
        "import torch\n",
        "import torch.nn as nn\n",
        "import torch.optim as optim\n",
        "import torch.nn.functional as F\n",
        "from torch.utils.data import Dataset, DataLoader, random_split\n",
        "from torchsummary import summary\n",
        "import torchvision.transforms as transforms\n",
        "\n",
        "# importing required packages for hyperparameter tuning\n",
        "import skorch\n",
        "from skorch import NeuralNetRegressor\n",
        "from sklearn.model_selection import GridSearchCV, RandomizedSearchCV"
      ]
    },
    {
      "cell_type": "code",
      "execution_count": 3,
      "metadata": {
        "colab": {
          "base_uri": "https://localhost:8080/"
        },
        "id": "N--7s-HVPSUr",
        "outputId": "5fc55d80-45ac-429c-cb90-c649889d617e"
      },
      "outputs": [
        {
          "output_type": "stream",
          "name": "stdout",
          "text": [
            "True\n",
            "1\n",
            "0\n",
            "Tesla T4\n"
          ]
        }
      ],
      "source": [
        "# check if CUDA is available and print GPU info\n",
        "use_cuda = torch.cuda.is_available()\n",
        "print(use_cuda)\n",
        "print(torch.cuda.device_count())\n",
        "print(torch.cuda.current_device())\n",
        "print(torch.cuda.get_device_name(0))\n",
        "\n",
        "# set device to use GPU if available, otherwise use CPU\n",
        "device = torch.device('cuda:0' if use_cuda else 'cpu')"
      ]
    },
    {
      "cell_type": "code",
      "source": [],
      "metadata": {
        "id": "u3xLrbqjvdmX"
      },
      "execution_count": null,
      "outputs": []
    },
    {
      "cell_type": "code",
      "execution_count": 4,
      "metadata": {
        "id": "VueaJsWOKtKI"
      },
      "outputs": [],
      "source": [
        "# Define the custom dataset\n",
        "class MyDataset(Dataset):\n",
        "    def __init__(self, csv_file):\n",
        "        self.data = pd.read_csv(csv_file)\n",
        "        \n",
        "    def __len__(self):\n",
        "        return len(self.data)\n",
        "    \n",
        "    def __getitem__(self, index):\n",
        "        x = torch.tensor(self.data.iloc[index, :-1].values, dtype=torch.float32)\n",
        "        y = torch.tensor(self.data.iloc[index, -1], dtype=torch.float32)\n",
        "        return x, y"
      ]
    },
    {
      "cell_type": "code",
      "source": [
        "df = pd.read_csv('/content/drive/MyDrive/Colab Notebooks/Data.csv')\n",
        "\n",
        "x = df.iloc[:, :6].values  # select all rows and the first 6 columns\n",
        "y = df.iloc[:, -1].values  # select all rows and the last column\n",
        "\n",
        "x = torch.tensor(x, dtype=torch.float32)\n",
        "y = torch.tensor(y, dtype=torch.float32)\n",
        "\n",
        "y = y.reshape(-1, 1)"
      ],
      "metadata": {
        "id": "yzSOHW81ShYV"
      },
      "execution_count": 7,
      "outputs": []
    },
    {
      "cell_type": "code",
      "execution_count": 37,
      "metadata": {
        "id": "1WIRfGftQFmh"
      },
      "outputs": [],
      "source": [
        "# Load the dataset\n",
        "dataset = MyDataset('/content/drive/MyDrive/Colab Notebooks/Data.csv')\n",
        "\n",
        "# Split the dataset into training, validation, and test sets\n",
        "train_size = int(0.7 * len(dataset))\n",
        "val_size = int(0.15 * len(dataset))\n",
        "test_size = len(dataset) - train_size - val_size\n",
        "\n",
        "train_data, val_data, test_data = random_split(dataset, [train_size, val_size, test_size], generator=torch.Generator().manual_seed(42))\n",
        "\n",
        "# Create data loaders for training, validation, and test sets\n",
        "train_loader = DataLoader(train_data, batch_size=16, shuffle=True)\n",
        "val_loader = DataLoader(val_data, batch_size=16, shuffle=False)\n",
        "test_loader = DataLoader(test_data, batch_size=16, shuffle=False)"
      ]
    },
    {
      "cell_type": "code",
      "execution_count": 38,
      "metadata": {
        "colab": {
          "base_uri": "https://localhost:8080/"
        },
        "id": "9MuxlqYuS63N",
        "outputId": "f960f26b-002f-4798-ef89-a0fa057983b6"
      },
      "outputs": [
        {
          "output_type": "stream",
          "name": "stdout",
          "text": [
            "Number of samples in train_data: 717\n",
            "Number of samples in val_data: 153\n",
            "Number of samples in test_data: 155\n",
            "Sample input:\n",
            "tensor([ 5.800e+01,  1.280e+02,  5.200e+01,  1.583e+05,  4.544e+06, -3.420e-01])\n",
            "Sample output:\n",
            "tensor(1.858)\n"
          ]
        }
      ],
      "source": [
        "# Set printing options for tensors\n",
        "torch.set_printoptions(precision=3, threshold=10000, edgeitems=5)\n",
        "\n",
        "# created dataset checking\n",
        "print(f\"Number of samples in train_data: {len(train_data)}\")\n",
        "print(f\"Number of samples in val_data: {len(val_data)}\")\n",
        "print(f\"Number of samples in test_data: {len(test_data)}\")\n",
        "\n",
        "# Print a few samples from the training set\n",
        "for x, y in val_data:\n",
        "    print(\"Sample input:\")\n",
        "    print(x)\n",
        "    print(\"Sample output:\")\n",
        "    print(y)\n",
        "    break  # stop after printing one batch"
      ]
    },
    {
      "cell_type": "code",
      "execution_count": 39,
      "metadata": {
        "id": "rBD-jQQkMqGN"
      },
      "outputs": [],
      "source": [
        "for batch in train_loader:\n",
        "    x, y = batch  # Unpack the batch into inputs and targets\n",
        "    # Do something with x and y\n",
        "    \n",
        "y = y.reshape(-1, 1)"
      ]
    },
    {
      "cell_type": "code",
      "source": [
        "import torch\n",
        "import torchvision.transforms as transforms\n",
        "\n",
        "# Calculate the mean and standard deviation for each feature\n",
        "mean = torch.mean(x, dim=0)\n",
        "var = torch.var(x, dim=0)\n",
        "\n",
        "x = (x-mean)/torch.sqrt(var)"
      ],
      "metadata": {
        "id": "a6NpdZ86hvl6"
      },
      "execution_count": 8,
      "outputs": []
    },
    {
      "cell_type": "code",
      "execution_count": 9,
      "metadata": {
        "id": "-Fxujv5S5YfJ"
      },
      "outputs": [],
      "source": [
        "# Utility function to report best scores (found online)\n",
        "def report(results, n_top=3):\n",
        "    for i in range(1, n_top + 1):\n",
        "        candidates = np.flatnonzero(results['rank_test_score'] == i)\n",
        "        for candidate in candidates:\n",
        "            print(\"Model with rank: {0}\".format(i))\n",
        "            print(\"Mean validation score: {0:.3f} (std: {1:.3f})\".format(\n",
        "                  results['mean_test_score'][candidate],\n",
        "                  results['std_test_score'][candidate]))\n",
        "            print(\"Parameters: {0}\".format(results['params'][candidate]))\n",
        "            print(\"\")"
      ]
    },
    {
      "cell_type": "code",
      "execution_count": 10,
      "metadata": {
        "id": "ma7Yzkhn72oz"
      },
      "outputs": [],
      "source": [
        "class MyModule(nn.Module):\n",
        "    def __init__(self, layer_sizes=[6, 10, 1], activations=[nn.LeakyReLU()], dropouts=[0.5]):\n",
        "        super(MyModule, self).__init__()\n",
        "\n",
        "        layers = []\n",
        "        for i in range(len(layer_sizes) - 1):\n",
        "            layers.append(nn.Linear(layer_sizes[i], layer_sizes[i+1]))\n",
        "            if i < len(activations):\n",
        "                layers.append(activations[i])\n",
        "            if i < len(dropouts):\n",
        "                layers.append(nn.Dropout(p=dropouts[i]))\n",
        "\n",
        "        self.module = nn.Sequential(*layers)\n",
        "\n",
        "    def forward(self, X):\n",
        "        X = self.module(X)\n",
        "        return X"
      ]
    },
    {
      "cell_type": "code",
      "execution_count": 17,
      "metadata": {
        "id": "AGvjT5eo8V5F"
      },
      "outputs": [],
      "source": [
        "layer_sizes = [[6, 14, 1], [6, 20, 1], [6, 28, 1], [6, 36, 1], [6, 42, 1]]\n",
        "activations = [[nn.LeakyReLU()], [nn.ReLU()], [nn.Tanh()], [nn.Sigmoid()], [nn.ELU()]]\n",
        "dropouts = [[0.0], [0.2], [0.4], [0.6], [0.8]]\n",
        "optimizers = [optim.Adam, optim.SGD, optim.RMSprop]\n",
        "learning_rates = [10 ** x for x in np.random.uniform(-5, -2.5, 20)]\n",
        "\n",
        "params = {\n",
        "    'module__layer_sizes': layer_sizes,\n",
        "    'module__activations': activations,\n",
        "    'module__dropouts': dropouts,\n",
        "    'optimizer': optimizers,\n",
        "    'optimizer__lr': learning_rates,\n",
        "    'max_epochs': [25, 50, 75, 100],\n",
        "}"
      ]
    },
    {
      "cell_type": "code",
      "execution_count": 18,
      "metadata": {
        "id": "HimqTN8nJVjt"
      },
      "outputs": [],
      "source": [
        "# Running Skorch\n",
        "net = NeuralNetRegressor(\n",
        "    MyModule,\n",
        "    criterion=nn.MSELoss,\n",
        "    max_epochs=10,\n",
        "    optimizer=optim.Adam,\n",
        "    optimizer__lr=0.005\n",
        ")\n",
        "gs = RandomizedSearchCV(net, params, refit=True, cv=3, scoring='neg_mean_squared_error', n_iter=100)"
      ]
    },
    {
      "cell_type": "code",
      "execution_count": 19,
      "metadata": {
        "id": "8VyvIre_KkyY"
      },
      "outputs": [],
      "source": [
        "%%capture\n",
        "gs.fit(x,y);"
      ]
    },
    {
      "cell_type": "code",
      "execution_count": 20,
      "metadata": {
        "colab": {
          "base_uri": "https://localhost:8080/"
        },
        "id": "9G22NBsrNeMk",
        "outputId": "576986e8-e3d8-4deb-b68c-b0cb6155d87b"
      },
      "outputs": [
        {
          "output_type": "stream",
          "name": "stdout",
          "text": [
            "Model with rank: 1\n",
            "Mean validation score: -0.395 (std: 0.239)\n",
            "Parameters: {'optimizer__lr': 0.0005498717784967656, 'optimizer': <class 'torch.optim.adam.Adam'>, 'module__layer_sizes': [6, 14, 1], 'module__dropouts': [0.2], 'module__activations': [Tanh()], 'max_epochs': 100}\n",
            "\n",
            "Model with rank: 2\n",
            "Mean validation score: -0.403 (std: 0.256)\n",
            "Parameters: {'optimizer__lr': 0.00012629056643172364, 'optimizer': <class 'torch.optim.rmsprop.RMSprop'>, 'module__layer_sizes': [6, 14, 1], 'module__dropouts': [0.0], 'module__activations': [LeakyReLU(negative_slope=0.01)], 'max_epochs': 100}\n",
            "\n",
            "Model with rank: 3\n",
            "Mean validation score: -0.408 (std: 0.386)\n",
            "Parameters: {'optimizer__lr': 0.0012663459547207177, 'optimizer': <class 'torch.optim.sgd.SGD'>, 'module__layer_sizes': [6, 42, 1], 'module__dropouts': [0.0], 'module__activations': [Tanh()], 'max_epochs': 50}\n",
            "\n",
            "Model with rank: 4\n",
            "Mean validation score: -0.428 (std: 0.241)\n",
            "Parameters: {'optimizer__lr': 0.0031545046513858214, 'optimizer': <class 'torch.optim.rmsprop.RMSprop'>, 'module__layer_sizes': [6, 28, 1], 'module__dropouts': [0.6], 'module__activations': [Tanh()], 'max_epochs': 100}\n",
            "\n",
            "Model with rank: 5\n",
            "Mean validation score: -0.445 (std: 0.271)\n",
            "Parameters: {'optimizer__lr': 0.001351810761499979, 'optimizer': <class 'torch.optim.adam.Adam'>, 'module__layer_sizes': [6, 14, 1], 'module__dropouts': [0.2], 'module__activations': [Tanh()], 'max_epochs': 50}\n",
            "\n",
            "Model with rank: 6\n",
            "Mean validation score: -0.445 (std: 0.390)\n",
            "Parameters: {'optimizer__lr': 0.00012843360046962087, 'optimizer': <class 'torch.optim.adam.Adam'>, 'module__layer_sizes': [6, 36, 1], 'module__dropouts': [0.6], 'module__activations': [Sigmoid()], 'max_epochs': 50}\n",
            "\n",
            "Model with rank: 7\n",
            "Mean validation score: -0.449 (std: 0.239)\n",
            "Parameters: {'optimizer__lr': 0.0010317741416944954, 'optimizer': <class 'torch.optim.rmsprop.RMSprop'>, 'module__layer_sizes': [6, 42, 1], 'module__dropouts': [0.8], 'module__activations': [Sigmoid()], 'max_epochs': 100}\n",
            "\n",
            "Model with rank: 8\n",
            "Mean validation score: -0.449 (std: 0.445)\n",
            "Parameters: {'optimizer__lr': 0.0012663459547207177, 'optimizer': <class 'torch.optim.sgd.SGD'>, 'module__layer_sizes': [6, 28, 1], 'module__dropouts': [0.6], 'module__activations': [ELU(alpha=1.0)], 'max_epochs': 100}\n",
            "\n",
            "Model with rank: 9\n",
            "Mean validation score: -0.450 (std: 0.211)\n",
            "Parameters: {'optimizer__lr': 0.0015980580047805994, 'optimizer': <class 'torch.optim.sgd.SGD'>, 'module__layer_sizes': [6, 36, 1], 'module__dropouts': [0.2], 'module__activations': [LeakyReLU(negative_slope=0.01)], 'max_epochs': 100}\n",
            "\n",
            "Model with rank: 10\n",
            "Mean validation score: -0.451 (std: 0.308)\n",
            "Parameters: {'optimizer__lr': 0.0005224750195474157, 'optimizer': <class 'torch.optim.rmsprop.RMSprop'>, 'module__layer_sizes': [6, 20, 1], 'module__dropouts': [0.6], 'module__activations': [LeakyReLU(negative_slope=0.01)], 'max_epochs': 100}\n",
            "\n"
          ]
        }
      ],
      "source": [
        "# review top 10 results and parameters associated\n",
        "report(gs.cv_results_,10)"
      ]
    },
    {
      "cell_type": "code",
      "execution_count": 21,
      "metadata": {
        "colab": {
          "base_uri": "https://localhost:8080/",
          "height": 472
        },
        "id": "-_szCaMSDjnf",
        "outputId": "50ad5976-648b-4460-ffb6-72d75063f851"
      },
      "outputs": [
        {
          "output_type": "display_data",
          "data": {
            "text/plain": [
              "<Figure size 640x480 with 1 Axes>"
            ],
            "image/png": "[encoded data removed]"
          },
          "metadata": {}
        }
      ],
      "source": [
        "# get training and validation loss\n",
        "epochs = [i for i in range(len(gs.best_estimator_.history))]\n",
        "train_loss = gs.best_estimator_.history[:,'train_loss']\n",
        "valid_loss = gs.best_estimator_.history[:,'valid_loss']\n",
        "\n",
        "plt.plot(epochs,train_loss,'g-');\n",
        "plt.plot(epochs,valid_loss,'r-');\n",
        "plt.title('Training Loss Curves');\n",
        "plt.xlabel('Epochs');\n",
        "plt.ylabel('Mean Squared Error');\n",
        "plt.legend(['Train','Validation']);"
      ]
    },
    {
      "cell_type": "code",
      "execution_count": 26,
      "metadata": {
        "id": "0BrLe3EGOccs"
      },
      "outputs": [],
      "source": [
        "class MyModule(nn.Module):\n",
        "    def __init__(self, layer_sizes=[6, 10, 1], activations=[nn.LeakyReLU()], dropouts=[0.5], batch_norm=[True]):\n",
        "        super(MyModule, self).__init__()\n",
        "\n",
        "        layers = []\n",
        "        for i in range(len(layer_sizes) - 1):\n",
        "            layers.append(nn.Linear(layer_sizes[i], layer_sizes[i+1]))\n",
        "            \n",
        "            # Add batch normalization layer if specified\n",
        "            if i < len(batch_norm) and batch_norm[i]:\n",
        "                layers.append(nn.BatchNorm1d(layer_sizes[i+1]))\n",
        "                \n",
        "            if i < len(activations):\n",
        "                layers.append(activations[i])\n",
        "            if i < len(dropouts):\n",
        "                layers.append(nn.Dropout(p=dropouts[i]))\n",
        "\n",
        "        self.module = nn.Sequential(*layers)\n",
        "\n",
        "    def forward(self, X):\n",
        "        X = self.module(X)\n",
        "        return X"
      ]
    },
    {
      "cell_type": "code",
      "execution_count": 75,
      "metadata": {
        "id": "uiVneh0DQL9a",
        "colab": {
          "base_uri": "https://localhost:8080/"
        },
        "outputId": "e8f921ac-cb47-4850-ce9e-fbc44088da69"
      },
      "outputs": [
        {
          "output_type": "stream",
          "name": "stderr",
          "text": [
            "/usr/local/lib/python3.10/dist-packages/torch/nn/modules/loss.py:536: UserWarning: Using a target size (torch.Size([16])) that is different to the input size (torch.Size([16, 1])). This will likely lead to incorrect results due to broadcasting. Please ensure they have the same size.\n",
            "  return F.mse_loss(input, target, reduction=self.reduction)\n",
            "/usr/local/lib/python3.10/dist-packages/torch/nn/modules/loss.py:536: UserWarning: Using a target size (torch.Size([13])) that is different to the input size (torch.Size([13, 1])). This will likely lead to incorrect results due to broadcasting. Please ensure they have the same size.\n",
            "  return F.mse_loss(input, target, reduction=self.reduction)\n"
          ]
        },
        {
          "output_type": "stream",
          "name": "stdout",
          "text": [
            "Layer sizes: [6, 10, 1], Activations: [Sigmoid()], Dropouts: [0.2], Loss: 361.8736443413628\n",
            "Mean squared error on the validation set: 0.001\n"
          ]
        },
        {
          "output_type": "stream",
          "name": "stderr",
          "text": [
            "/usr/local/lib/python3.10/dist-packages/torch/nn/modules/loss.py:536: UserWarning: Using a target size (torch.Size([])) that is different to the input size (torch.Size([1])). This will likely lead to incorrect results due to broadcasting. Please ensure they have the same size.\n",
            "  return F.mse_loss(input, target, reduction=self.reduction)\n"
          ]
        },
        {
          "output_type": "stream",
          "name": "stdout",
          "text": [
            "Layer sizes: [6, 10, 1], Activations: [Sigmoid()], Dropouts: [0.2], Loss: 361.8736443413628\n",
            "Mean squared error on the validation set: 0.000\n",
            "Layer sizes: [6, 10, 1], Activations: [Sigmoid()], Dropouts: [0.2], Loss: 361.8736443413628\n",
            "Mean squared error on the validation set: 0.002\n",
            "Layer sizes: [6, 10, 1], Activations: [Sigmoid()], Dropouts: [0.2], Loss: 361.8736443413628\n",
            "Mean squared error on the validation set: 0.000\n",
            "Layer sizes: [6, 10, 1], Activations: [Sigmoid()], Dropouts: [0.2], Loss: 361.8736443413628\n",
            "Mean squared error on the validation set: 0.002\n",
            "Layer sizes: [6, 10, 1], Activations: [Sigmoid()], Dropouts: [0.2], Loss: 361.8736443413628\n",
            "Mean squared error on the validation set: 0.000\n",
            "Layer sizes: [6, 10, 1], Activations: [Sigmoid()], Dropouts: [0.2], Loss: 361.8736443413628\n",
            "Mean squared error on the validation set: 0.003\n",
            "Layer sizes: [6, 10, 1], Activations: [Sigmoid()], Dropouts: [0.2], Loss: 361.8736443413628\n",
            "Mean squared error on the validation set: 0.001\n",
            "Layer sizes: [6, 10, 1], Activations: [Sigmoid()], Dropouts: [0.2], Loss: 361.8736443413628\n",
            "Mean squared error on the validation set: 0.001\n",
            "Layer sizes: [6, 10, 1], Activations: [Sigmoid()], Dropouts: [0.2], Loss: 361.8736443413628\n",
            "Mean squared error on the validation set: 0.001\n",
            "Layer sizes: [6, 10, 1], Activations: [Sigmoid()], Dropouts: [0.2], Loss: 361.8736443413628\n",
            "Mean squared error on the validation set: 0.000\n",
            "Layer sizes: [6, 10, 1], Activations: [Sigmoid()], Dropouts: [0.2], Loss: 361.8736443413628\n",
            "Mean squared error on the validation set: 0.004\n",
            "Layer sizes: [6, 10, 1], Activations: [Sigmoid()], Dropouts: [0.2], Loss: 361.8736443413628\n",
            "Mean squared error on the validation set: 0.002\n",
            "Layer sizes: [6, 10, 1], Activations: [Sigmoid()], Dropouts: [0.2], Loss: 361.8736443413628\n",
            "Mean squared error on the validation set: 0.000\n",
            "Layer sizes: [6, 10, 1], Activations: [Sigmoid()], Dropouts: [0.2], Loss: 361.8736443413628\n",
            "Mean squared error on the validation set: 0.001\n",
            "Layer sizes: [6, 10, 1], Activations: [Sigmoid()], Dropouts: [0.2], Loss: 361.8736443413628\n",
            "Mean squared error on the validation set: 0.000\n",
            "Layer sizes: [6, 10, 1], Activations: [Sigmoid()], Dropouts: [0.2], Loss: 361.8736443413628\n",
            "Mean squared error on the validation set: 0.001\n",
            "Layer sizes: [6, 10, 1], Activations: [Sigmoid()], Dropouts: [0.2], Loss: 361.8736443413628\n",
            "Mean squared error on the validation set: 0.005\n",
            "Layer sizes: [6, 10, 1], Activations: [Sigmoid()], Dropouts: [0.2], Loss: 361.8736443413628\n",
            "Mean squared error on the validation set: 0.001\n",
            "Layer sizes: [6, 10, 1], Activations: [Sigmoid()], Dropouts: [0.2], Loss: 361.8736443413628\n",
            "Mean squared error on the validation set: 0.000\n"
          ]
        }
      ],
      "source": [
        "import torch\n",
        "import torch.nn as nn\n",
        "import matplotlib.pyplot as plt\n",
        "\n",
        "# Define the model class\n",
        "class MyModule(nn.Module):\n",
        "    def __init__(self, layer_sizes=[6, 10, 1], activations=[nn.LeakyReLU()], dropouts=[0.5]):\n",
        "        super(MyModule, self).__init__()\n",
        "\n",
        "        layers = []\n",
        "        for i in range(len(layer_sizes) - 1):\n",
        "            layers.append(nn.Linear(layer_sizes[i], layer_sizes[i+1]))\n",
        "            if i < len(activations):\n",
        "                layers.append(activations[i])\n",
        "            if i < len(dropouts):\n",
        "                layers.append(nn.Dropout(p=dropouts[i]))\n",
        "\n",
        "        self.module = nn.Sequential(*layers)\n",
        "\n",
        "    def forward(self, X):\n",
        "        X = self.module(X)\n",
        "        return X\n",
        "\n",
        "\n",
        "# Define the ranges for the hyperparameters\n",
        "#layer_sizes = [[6, 10, 1], [6, 20, 1], [6, 30, 1]]\n",
        "#activations = [[nn.ReLU()], [nn.Sigmoid()]]\n",
        "#dropouts = [[0.1], [0.2], [0.3]]\n",
        "\n",
        "layer_sizes = [[6, 10, 1]]\n",
        "activations = [[nn.Sigmoid()]]\n",
        "dropouts = [[0.2]]\n",
        "learning_rates = [10 ** x for x in np.random.uniform(-5, -2.5, 20)]\n",
        "\n",
        "\n",
        "# Create lists to store the loss values for each hyperparameter combination\n",
        "layer_sizes_loss = []\n",
        "activations_loss = []\n",
        "dropouts_loss = []\n",
        "lr_loss = []\n",
        "\n",
        "\n",
        "# Loop over the hyperparameter ranges and train the model for each combination\n",
        "for lr in learning_rates:\n",
        "    for ls in layer_sizes:\n",
        "        for act in activations:\n",
        "            for dp in dropouts:\n",
        "\n",
        "                # Instantiate the model\n",
        "                model = MyModule(layer_sizes=ls, activations=act, dropouts=dp).to(device)\n",
        "\n",
        "                # Define the loss function and optimizer\n",
        "                criterion = nn.MSELoss()\n",
        "                optimizer = torch.optim.Adam(model.parameters(), lr=lr)\n",
        "\n",
        "                # Train the model for 50 epochs\n",
        "                for epoch in range(50):\n",
        "                    running_loss = 0.0\n",
        "                    for nn_x, nn_y in train_loader:\n",
        "                        nn_x, nn_y = nn_x.to(device), nn_y.to(device)\n",
        "                        pred = model(nn_x)\n",
        "\n",
        "                        loss = criterion(pred, nn_y)\n",
        "                        loss.backward()\n",
        "\n",
        "                        optimizer.step()\n",
        "                        running_loss += loss.item()\n",
        "\n",
        "                    #final_loss = running_loss / len(train_loader)\n",
        "                    #print('Epoch %d loss: %.3f' % (epoch + 1, running_loss / len(train_loader)))\n",
        "\n",
        "                # Print the hyperparameter values and the final loss value\n",
        "                print(f\"Layer sizes: {ls}, Activations: {act}, Dropouts: {dp}, Loss: {final_loss}\")            \n",
        "\n",
        "                with torch.no_grad():\n",
        "                    val_loss = 0.0\n",
        "                    for nn_x, nn_y in val_data:\n",
        "                        nn_x, nn_y = nn_x.to(device), nn_y.to(device)\n",
        "                        outputs = model(nn_x)\n",
        "                        val_loss += criterion(outputs, nn_y).item()\n",
        "                        val_loss /= len(val_data)\n",
        "                print(f'Mean squared error on the validation set: {val_loss:.3f}')\n",
        "\n",
        "                # Store the loss value for the current hyperparameter combination\n",
        "                layer_sizes_loss.append((ls[1], val_loss))\n",
        "                activations_loss.append((str(act[0]), val_loss))\n",
        "                dropouts_loss.append((dp[0], val_loss))\n",
        "                lr_loss.append((lr, val_loss))\n",
        "\n"
      ]
    },
    {
      "cell_type": "code",
      "source": [
        "# Extract the learning rates and validation MSEs\n",
        "learning_rates = [lr[0] for lr in lr_loss]\n",
        "validation_mses = [lr[1] for lr in lr_loss]\n",
        "\n",
        "# Find the index of the best learning rate and its corresponding validation MSE\n",
        "best_idx = validation_mses.index(min(validation_mses))\n",
        "best_lr = learning_rates[best_idx]\n",
        "best_mse = validation_mses[best_idx]\n",
        "\n",
        "# Create the scatter plot\n",
        "plt.scatter(learning_rates, validation_mses)\n",
        "plt.xscale('log')\n",
        "plt.xlabel('Learning Rate (log scale)')\n",
        "plt.ylabel('Validation MSE')\n",
        "plt.title('Validation MSE vs Learning Rate')\n",
        "\n",
        "# Add the label for the best learning rate\n",
        "plt.annotate(f'Best LR: {best_lr:.2E}\\nMSE: {best_mse:.2E}', \n",
        "             xy=(best_lr, best_mse), xytext=(0.005, 0.0005),\n",
        "             arrowprops=dict(facecolor='black', arrowstyle='->'))\n",
        "\n",
        "plt.show()"
      ],
      "metadata": {
        "colab": {
          "base_uri": "https://localhost:8080/",
          "height": 476
        },
        "id": "ntxzKMDWjxNp",
        "outputId": "5f0db6fb-603d-458a-d321-e9bc74b401a7"
      },
      "execution_count": 89,
      "outputs": [
        {
          "output_type": "display_data",
          "data": {
            "text/plain": [
              "<Figure size 640x480 with 1 Axes>"
            ],
            "image/png": "[encoded data removed]"
          },
          "metadata": {}
        }
      ]
    },
    {
      "cell_type": "code",
      "source": [],
      "metadata": {
        "id": "xJII4sDN0r4v"
      },
      "execution_count": null,
      "outputs": []
    }
  ],
  "metadata": {
    "accelerator": "GPU",
    "colab": {
      "machine_shape": "hm",
      "provenance": []
    },
    "gpuClass": "standard",
    "kernelspec": {
      "display_name": "Python 3",
      "name": "python3"
    },
    "language_info": {
      "name": "python"
    }
  },
  "nbformat": 4,
  "nbformat_minor": 0
}